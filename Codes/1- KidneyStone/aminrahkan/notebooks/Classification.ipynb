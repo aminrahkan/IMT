{
 "cells": [
  {
   "cell_type": "markdown",
   "id": "fc68a9e8",
   "metadata": {},
   "source": []
  },
  {
   "cell_type": "code",
   "execution_count": 2,
   "id": "aed030b4",
   "metadata": {},
   "outputs": [
    {
     "name": "stdout",
     "output_type": "stream",
     "text": [
      "Base dataset path :  /Users/nic/Documents/Work/Ai Project's/MIT/Codes/1- KidneyStone/aminrahkan/dataset\n",
      "Classes :  ['Normal', 'Stone']\n",
      "Train size :  6590\n",
      "Val size :  1412\n",
      "Test size :  1414\n"
     ]
    }
   ],
   "source": [
    "import torch \n",
    "from torchvision import datasets,transforms\n",
    "from torch.utils.data import DataLoader\n",
    "import os \n",
    "from pathlib import Path \n",
    "\n",
    "BASE_DATA_PATH = Path.cwd().parent/\"dataset\"\n",
    "print(\"Base dataset path : \",BASE_DATA_PATH)\n",
    "\n",
    "train_transform=transforms.Compose([transforms.Resize((224,224)),\n",
    "                                    transforms.RandomHorizontalFlip(),\n",
    "                                    transforms.ToTensor(),\n",
    "                                    transforms.Normalize(mean=[0.5],std=[0.5])])\n",
    "val_test_teansform = transforms.Compose([transforms.Resize((224,224)),transforms.ToTensor(),transforms.Normalize(mean=[0.5],std=[0.5])])\n",
    "\n",
    "train_data =datasets.ImageFolder(BASE_DATA_PATH/\"train\",transform=train_transform)\n",
    "val_data = datasets.ImageFolder(BASE_DATA_PATH/\"validate\",transform=val_test_teansform)\n",
    "test_data = datasets.ImageFolder(BASE_DATA_PATH/\"test\",transform=val_test_teansform)\n",
    "\n",
    "train_loader = DataLoader(train_data,batch_size=32,shuffle=True)\n",
    "val_loader = DataLoader(val_data,batch_size=32)\n",
    "test_loader = DataLoader(test_data,batch_size=32)\n",
    "\n",
    "print(\"Classes : \" ,train_data.classes)\n",
    "print(\"Train size : \",len(train_data))\n",
    "print(\"Val size : \",len(val_data))\n",
    "print(\"Test size : \",len(test_data))\n"
   ]
  },
  {
   "cell_type": "code",
   "execution_count": null,
   "id": "26be152e",
   "metadata": {},
   "outputs": [],
   "source": []
  }
 ],
 "metadata": {
  "kernelspec": {
   "display_name": "base",
   "language": "python",
   "name": "python3"
  },
  "language_info": {
   "codemirror_mode": {
    "name": "ipython",
    "version": 3
   },
   "file_extension": ".py",
   "mimetype": "text/x-python",
   "name": "python",
   "nbconvert_exporter": "python",
   "pygments_lexer": "ipython3",
   "version": "3.12.2"
  }
 },
 "nbformat": 4,
 "nbformat_minor": 5
}
