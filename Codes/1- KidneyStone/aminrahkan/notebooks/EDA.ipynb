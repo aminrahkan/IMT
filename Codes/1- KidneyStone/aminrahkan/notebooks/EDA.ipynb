{
 "cells": [
  {
   "cell_type": "code",
   "execution_count": null,
   "id": "35e79f9a-7360-4b36-bf2e-8817dd1651da",
   "metadata": {},
   "outputs": [
    {
     "ename": "ImportError",
     "evalue": "cannot import name 'DATASET_PATH' from 'config' (unknown location)",
     "output_type": "error",
     "traceback": [
      "\u001b[0;31m---------------------------------------------------------------------------\u001b[0m",
      "\u001b[0;31mImportError\u001b[0m                               Traceback (most recent call last)",
      "Cell \u001b[0;32mIn[2], line 9\u001b[0m\n\u001b[1;32m      5\u001b[0m \u001b[38;5;28;01mfrom\u001b[39;00m \u001b[38;5;21;01mpathlib\u001b[39;00m \u001b[38;5;28;01mimport\u001b[39;00m Path\n\u001b[1;32m      7\u001b[0m sys\u001b[38;5;241m.\u001b[39mpath\u001b[38;5;241m.\u001b[39mappend(os\u001b[38;5;241m.\u001b[39mpath\u001b[38;5;241m.\u001b[39mabspath(\u001b[38;5;124m\"\u001b[39m\u001b[38;5;124m..\u001b[39m\u001b[38;5;124m\"\u001b[39m))\n\u001b[0;32m----> 9\u001b[0m \u001b[38;5;28;01mfrom\u001b[39;00m \u001b[38;5;21;01mconfig\u001b[39;00m \u001b[38;5;28;01mimport\u001b[39;00m DATASET_PATH\n\u001b[1;32m     11\u001b[0m DATASET_PATH \u001b[38;5;241m=\u001b[39m Path(DATASET_PATH)  \u001b[38;5;66;03m# This ensures DATASET_PATH is a Path object\u001b[39;00m\n\u001b[1;32m     14\u001b[0m normal_path \u001b[38;5;241m=\u001b[39m DATASET_PATH \u001b[38;5;241m/\u001b[39m \u001b[38;5;124m\"\u001b[39m\u001b[38;5;124mNormal\u001b[39m\u001b[38;5;124m\"\u001b[39m\n",
      "\u001b[0;31mImportError\u001b[0m: cannot import name 'DATASET_PATH' from 'config' (unknown location)"
     ]
    }
   ],
   "source": [
    "#Exploratory Data Analysis - Show path's\n",
    " \n",
    "import os\n",
    "import sys\n",
    "from pathlib import Path\n",
    "\n",
    "sys.path.append(os.path.abspath(\"..\"))\n",
    "\n",
    "from config.config import DATASET_PATH\n",
    "\n",
    "DATASET_PATH = Path(DATASET_PATH)  # This ensures DATASET_PATH is a Path object\n",
    "\n",
    "\n",
    "normal_path = DATASET_PATH / \"Normal\"\n",
    "stone_path = DATASET_PATH / \"Stone\"\n",
    "\n",
    "print(f\"normal_path : {normal_path}\")\n",
    "print(f\"stone_path : {stone_path}\")\n",
    "\n"
   ]
  },
  {
   "cell_type": "code",
   "execution_count": null,
   "id": "daab5eca-7333-4fcd-872b-f0e70440019d",
   "metadata": {},
   "outputs": [],
   "source": [
    "\n",
    "#Exploratory Data Analysis - show counts and draw pie chart from classifications\n",
    "\n",
    "import matplotlib.pyplot as plt\n",
    "\n",
    "\n",
    "# If normal_path and stone_path are Path objects:\n",
    "if isinstance(normal_path, Path):\n",
    "    normal_path = str(normal_path)\n",
    "if isinstance(stone_path, Path):\n",
    "    stone_path = str(stone_path)\n",
    "\n",
    "# replace backslashes correctly (for string objects)\n",
    "normal_path = normal_path.replace('\\\\', '')\n",
    "stone_path = stone_path.replace('\\\\', '')\n",
    "\n",
    "print(f\"normal_path : {normal_path} with {len(os.listdir(normal_path))} files\")\n",
    "print(f\"stone_path : {stone_path} with {len(os.listdir(stone_path))} files\")\n",
    "\n",
    "counts = [len(os.listdir(normal_path)), len(os.listdir(stone_path))]\n",
    "labels = ['Normal', 'Stone']\n",
    "\n",
    "plt.figure(figsize=(6,6))\n",
    "plt.pie(counts, labels=labels, autopct='%1.1f%%', startangle=90, colors=['skyblue', 'lightcoral'])\n",
    "plt.title('Distribution of Images per Class')\n",
    "plt.axis('equal')\n",
    "plt.show()"
   ]
  },
  {
   "cell_type": "code",
   "execution_count": null,
   "id": "7e55a0fd-e06e-4cc8-8fad-0cef6bf9c2d8",
   "metadata": {},
   "outputs": [],
   "source": [
    "#Exploratory Data Analysis - just show samples of images. \n",
    "\n",
    "import random\n",
    "import cv2\n",
    "\n",
    "def show_sample_images(folder_path, label, n=4):\n",
    "    files = random.sample(os.listdir(folder_path), n)\n",
    "    fig, axes = plt.subplots(1, n, figsize=(15, n))\n",
    "    for i, file in enumerate(files):\n",
    "        img_path = os.path.join(folder_path, file)\n",
    "        img = cv2.imread(img_path, cv2.IMREAD_GRAYSCALE)\n",
    "        axes[i].imshow(img, cmap='gray')\n",
    "        axes[i].set_title(f\"{label} - {file}\")\n",
    "        axes[i].axis('off')\n",
    "    plt.show()\n",
    "\n",
    "\n",
    "show_sample_images(normal_path, 'Normal')\n",
    "show_sample_images(stone_path, 'Stone')\n"
   ]
  },
  {
   "cell_type": "code",
   "execution_count": null,
   "id": "93093de6-180c-4e91-9251-6953a2c8c997",
   "metadata": {},
   "outputs": [],
   "source": [
    "img_shapes = []\n",
    "\n",
    "for path in [normal_path, stone_path]:\n",
    "    for img_file in os.listdir(path):\n",
    "        img = cv2.imread(os.path.join(path, img_file), cv2.IMREAD_GRAYSCALE)\n",
    "        img_shapes.append(img.shape)\n",
    "\n",
    "\n",
    "# Check for unique image dimensions\n",
    "unique_shapes = set(img_shapes)\n",
    "print(\"Unique image shapes:\", unique_shapes)\n"
   ]
  },
  {
   "cell_type": "code",
   "execution_count": null,
   "id": "1d4f6db3-a442-478d-a6a4-50bfdefa1c2f",
   "metadata": {},
   "outputs": [],
   "source": []
  }
 ],
 "metadata": {
  "kernelspec": {
   "display_name": "base",
   "language": "python",
   "name": "python3"
  },
  "language_info": {
   "codemirror_mode": {
    "name": "ipython",
    "version": 3
   },
   "file_extension": ".py",
   "mimetype": "text/x-python",
   "name": "python",
   "nbconvert_exporter": "python",
   "pygments_lexer": "ipython3",
   "version": "3.12.2"
  }
 },
 "nbformat": 4,
 "nbformat_minor": 5
}
